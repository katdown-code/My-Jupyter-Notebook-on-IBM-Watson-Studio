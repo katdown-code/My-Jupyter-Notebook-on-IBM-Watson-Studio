{
 "cells": [
  {
   "cell_type": "markdown",
   "id": "f8155b87",
   "metadata": {},
   "source": [
    "# My Jupter Notebook on IBM Watson Studio"
   ]
  },
  {
   "cell_type": "markdown",
   "id": "8d7fa43b",
   "metadata": {},
   "source": [
    "**Katelyn Downey**\n",
    "\n",
    "    Data Analyist"
   ]
  },
  {
   "cell_type": "markdown",
   "id": "5c89f12c",
   "metadata": {},
   "source": [
    "_I'm interested in data science because it is the discovery of information in numbers in a way that impacts the world around us. One day I'd like to be able to use the skills I learn in this course to find ways to improve peoples' lives._"
   ]
  },
  {
   "cell_type": "markdown",
   "id": "87f31d2d",
   "metadata": {},
   "source": [
    "### This code prints out the Fibonacci Sequence"
   ]
  },
  {
   "cell_type": "code",
   "execution_count": null,
   "id": "1c0bf0c6",
   "metadata": {},
   "outputs": [],
   "source": [
    "fib_loop_range = int(input('pick a range between 6 and 40 :  '))# Get the range from the user\n",
    "fib_loop_range = max(6,min(fib_loop_range,40))                  # Clamp the numbers so they won't get too large\n",
    "print('fibonacci range :',fib_loop_range)                       # confirm the range\n",
    "print('---------')\n",
    "\n",
    "def fib_loop(n):                                  # use recursion to calculate the next number in the sequence\n",
    "    if n <= 1: return n \n",
    "    else: return (fib_loop(n-1)+fib_loop(n-2))\n",
    "\n",
    "x = 0                         # loop for the range entered\n",
    "while(x < fib_loop_range):    \n",
    "    print(fib_loop(x))\n",
    "    x = x+1"
   ]
  },
  {
   "cell_type": "markdown",
   "id": "d81fb6f6",
   "metadata": {},
   "source": [
    "***\n",
    "**wikis on number seqences**\n",
    "- <a id='https://en.wikipedia.org/wiki/Fibonacci_number'> Fibonacci Sequence </a>\n",
    "- <a id='https://en.wikipedia.org/wiki/Golden_ratio'> The Golden Ratio </a>\n",
    "- <a id='https://en.wikipedia.org/wiki/Lucas_number'> Lucas Number Sequence </a>\n",
    "- <a id='https://en.wikipedia.org/wiki/Triangular_number'> Triangular Number Sequence </a>\n",
    "\n",
    "<img src = \"https://upload.wikimedia.org/wikipedia/commons/thumb/b/b9/Fibonacci_Spiral.svg/512px-Fibonacci_Spiral.svg.png\" title = \"The Golden Spiral\">\n",
    "\n",
    "|Title A | Title B|\n",
    "|:-------|--------|\n",
    "|AAA     |BBB     |\n",
    "|AAA     |BBB     |\n",
    "\n",
    "> ~~this is just text~~"
   ]
  }
 ],
 "metadata": {
  "kernelspec": {
   "display_name": "Python 3 (ipykernel)",
   "language": "python",
   "name": "python3"
  },
  "language_info": {
   "codemirror_mode": {
    "name": "ipython",
    "version": 3
   },
   "file_extension": ".py",
   "mimetype": "text/x-python",
   "name": "python",
   "nbconvert_exporter": "python",
   "pygments_lexer": "ipython3",
   "version": "3.9.12"
  }
 },
 "nbformat": 4,
 "nbformat_minor": 5
}
