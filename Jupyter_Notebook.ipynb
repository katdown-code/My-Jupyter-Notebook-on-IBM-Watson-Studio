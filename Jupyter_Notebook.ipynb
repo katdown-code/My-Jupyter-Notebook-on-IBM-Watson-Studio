{
 "cells": [
  {
   "cell_type": "markdown",
   "metadata": {},
   "source": [
    "<center>\n",
    "    <img src=\"https://s3-api.us-geo.objectstorage.softlayer.net/cf-courses-data/CognitiveClass/Logos/organization_logo/organization_logo.png\" width=\"300\" alt=\"cognitiveclass.ai logo\"  />\n",
    "</center>\n"
   ]
  },
  {
   "cell_type": "markdown",
   "metadata": {},
   "source": [
    "#### Add your code below following the instructions given in the course\n"
   ]
  },
  {
   "cell_type": "markdown",
   "metadata": {},
   "source": [
    "# My Jupter Notebook on IBM Watson Studio"
   ]
  },
  {
   "cell_type": "markdown",
   "metadata": {},
   "source": [
    "**Katelyn Downey**\n",
    "\n",
    "    Data Analyist"
   ]
  },
  {
   "cell_type": "markdown",
   "metadata": {},
   "source": [
    "_I'm interested in data science because it is the discovery of information in numbers in a way that impacts the world around us. One day I'd like to be able to use the skills I learn in this course to find ways to improve peoples' lives._"
   ]
  },
  {
   "cell_type": "markdown",
   "metadata": {},
   "source": [
    "### This code prints out the Fibonacci Sequence"
   ]
  },
  {
   "cell_type": "code",
   "execution_count": 2,
   "metadata": {},
   "outputs": [
    {
     "name": "stdout",
     "output_type": "stream",
     "text": [
      "0\n",
      "1\n",
      "1\n",
      "2\n",
      "3\n",
      "5\n",
      "8\n",
      "13\n",
      "21\n",
      "34\n",
      "55\n",
      "89\n",
      "144\n",
      "233\n",
      "377\n",
      "610\n",
      "987\n",
      "1597\n",
      "2584\n",
      "4181\n"
     ]
    }
   ],
   "source": [
    "def fib_loop(n):                                  # use recursion to calculate the next number in the sequence\n",
    "    if n <= 1: return n \n",
    "    else: return (fib_loop(n-1)+fib_loop(n-2))\n",
    "\n",
    "x = 0                         # loop 20 times\n",
    "while(x < 20):    \n",
    "    print(fib_loop(x))\n",
    "    x = x+1"
   ]
  },
  {
   "cell_type": "markdown",
   "metadata": {},
   "source": [
    "***\n",
    "**wikis on number seqences**\n",
    "- <a id='https://en.wikipedia.org/wiki/Fibonacci_number'> Fibonacci Sequence </a>\n",
    "- <a id='https://en.wikipedia.org/wiki/Golden_ratio'> The Golden Ratio </a>\n",
    "- <a id='https://en.wikipedia.org/wiki/Lucas_number'> Lucas Number Sequence </a>\n",
    "- <a id='https://en.wikipedia.org/wiki/Triangular_number'> Triangular Number Sequence </a>\n",
    "\n",
    "<img src = \"https://upload.wikimedia.org/wikipedia/commons/thumb/b/b9/Fibonacci_Spiral.svg/512px-Fibonacci_Spiral.svg.png\" title = \"The Golden Spiral\">\n",
    "\n",
    "|Title A | Title B|\n",
    "|:-------|--------|\n",
    "|AAA     |BBB     |\n",
    "|AAA     |BBB     |\n",
    "\n",
    "> ~~this is just text~~"
   ]
  }
 ],
 "metadata": {
  "kernelspec": {
   "display_name": "Python 3 (ipykernel)",
   "language": "python",
   "name": "python3"
  },
  "language_info": {
   "codemirror_mode": {
    "name": "ipython",
    "version": 3
   },
   "file_extension": ".py",
   "mimetype": "text/x-python",
   "name": "python",
   "nbconvert_exporter": "python",
   "pygments_lexer": "ipython3",
   "version": "3.9.12"
  }
 },
 "nbformat": 4,
 "nbformat_minor": 4
}
